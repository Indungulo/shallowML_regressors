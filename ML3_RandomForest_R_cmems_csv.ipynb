{
 "cells": [
  {
   "cell_type": "raw",
   "id": "dca23171-0e41-41ca-a2d3-3def8cb2cd66",
   "metadata": {},
   "source": [
    "Authors: L. Biermann (UoP)\n",
    "Credits: This code was originally developed for the MaRS Modules.\n",
    "License: This code is offered as free-to-use in the public domain, with no warranty.\n",
    "Date_V2: 25/02/2025"
   ]
  },
  {
   "cell_type": "markdown",
   "id": "a0ccb9eb-2368-460a-9c90-cd738bbfc23c",
   "metadata": {},
   "source": [
    "# Supervised Shallow Machine Learning: Random Forest Regressor"
   ]
  },
  {
   "cell_type": "markdown",
   "id": "81be4359-7113-44df-9db4-33eefaa5d8bf",
   "metadata": {},
   "source": [
    "<div class=\"alert alert-info\" role=\"alert\" \n",
    "     style=\"font-size: 1.1em; padding: 10px; margin: 10px 0; text-align: center;\">\n",
    "    \n",
    "    Random forest regressor is an *ensemble* learning method that builds multiple decision trees and aggregates \n",
    "    their continuous outputs to capture complex nonlinear relationships in data.\n",
    "<div>"
   ]
  },
  {
   "cell_type": "markdown",
   "id": "a395d4ad-9eff-4dba-9ac7-c07b9dc4d6a8",
   "metadata": {},
   "source": [
    "### Import Libraries including from `sklearn` for shallow ML"
   ]
  },
  {
   "cell_type": "code",
   "execution_count": 1,
   "id": "91ff73e0-8237-4087-81ba-8e4e3bb4e5c0",
   "metadata": {},
   "outputs": [],
   "source": [
    "# Data Wrangling\n",
    "import glob\n",
    "import pandas as pd\n",
    "import numpy as np\n",
    "\n",
    "# Machine Learn\n",
    "from sklearn.ensemble import RandomForestRegressor\n",
    "from sklearn.model_selection import train_test_split\n",
    "from sklearn.tree import DecisionTreeClassifier, plot_tree\n",
    "from sklearn.metrics import r2_score, mean_squared_error\n",
    "from sklearn.inspection import permutation_importance\n",
    "import shap\n",
    "\n",
    "# Data Plotting\n",
    "import matplotlib.pyplot as plt\n",
    "import seaborn as sns\n",
    "\n",
    "#ignorewarnings\n",
    "import warnings\n",
    "warnings.filterwarnings(\"ignore\")"
   ]
  },
  {
   "cell_type": "markdown",
   "id": "db5c7afd-8af2-44ea-9afe-5c2861b63ecc",
   "metadata": {},
   "source": [
    "<div class=\"alert alert-info\" role=\"alert\" \n",
    "     style=\"font-size: 1.8em; font-weight: bold; padding: 15px; margin: 10px 0; text-align: center; background-color: #d9edf7; border-color: #bce8f1; color: #31708f; border-radius: 8px;\">\n",
    "    Data Preprocessing\n",
    "</div>"
   ]
  },
  {
   "cell_type": "markdown",
   "id": "7cdadede-b0f2-4bca-a587-aa10e18980fc",
   "metadata": {},
   "source": [
    "### Load CSV files containing variables -- `glob` and pandas' `read_csv function`"
   ]
  },
  {
   "cell_type": "code",
   "execution_count": 2,
   "id": "e28e92a1-a51e-4e9d-8363-0965dbb987d7",
   "metadata": {},
   "outputs": [
    {
     "name": "stdout",
     "output_type": "stream",
     "text": [
      "       dates       SSH        SST        SSS       Vuo       Vvo        MLD\n",
      "0 1993-01-01 -0.096133  25.840723  36.259041 -0.104373  0.850246  66.225166\n",
      "1 1993-01-02 -0.106815  25.672995  36.251411 -0.169683  0.775780  69.124428\n",
      "2 1993-01-03 -0.137028  25.314096  36.233101 -0.120243  0.763573  63.325909\n",
      "3 1993-01-04 -0.170598  25.159552  36.242256  0.032960  0.979034  50.813320\n",
      "4 1993-01-05 -0.165105  25.166143  36.240730  0.083010  1.031526  49.897766\n"
     ]
    }
   ],
   "source": [
    "# Define the file pattern to match relevant CSV files\n",
    "file_pattern = \"cmems_training/cmems_mod_glo_phy_my_0.083deg_P1D-m_*.csv\"\n",
    "\n",
    "# Read all matching CSV files into a dictionary\n",
    "df_dict = {}\n",
    "for file in glob.glob(file_pattern):\n",
    "    var_name = file.split(\"_\")[-1].split(\".\")[0]  # Extract variable name from filename\n",
    "    df_dict[var_name] = pd.read_csv(file, comment='#')\n",
    "\n",
    "# Ensure SSH is processed correctly (dates + renaming 'zos' to 'SSH')\n",
    "SSH = df_dict.get(\"SSH\")\n",
    "if SSH is not None:\n",
    "    SSH['dates'] = pd.to_datetime(SSH['time'], format='%Y-%m-%dT%H:%M:%S.%fZ', utc=True)\n",
    "    SSH['dates'] = SSH['dates'].dt.strftime('%Y-%m-%d %H:%M')\n",
    "    SSH['dates'] = pd.to_datetime(SSH['dates'])\n",
    "    SSH = SSH.drop(columns=['time'])\n",
    "    SSH = SSH.rename(columns={'zos': 'SSH'})  # Rename 'zos' to 'SSH'\n",
    "    SSH = SSH[['dates', 'SSH']]  # Keep 'dates' and SSH variable\n",
    "\n",
    "# Mapping of expected variables to their corresponding column names in CSVs\n",
    "data_vars = {\n",
    "    \"SST\": \"thetao\",\n",
    "    \"SSS\": \"so\",\n",
    "    \"Vuo\": \"uo\",\n",
    "    \"Vvo\": \"vo\",\n",
    "    \"MLD\": \"mlotst\"}\n",
    "\n",
    "# Merge all datasets dynamically\n",
    "df = SSH.copy() if SSH is not None else pd.DataFrame()\n",
    "\n",
    "for key, col in data_vars.items():\n",
    "    dataset_key = \"VEL\" if key in [\"Vuo\", \"Vvo\"] else key  # Ensure velocity data is accessed correctly\n",
    "    if dataset_key in df_dict:\n",
    "        df[key] = df_dict[dataset_key][col].values  # Assign values from each dataset\n",
    "\n",
    "# Print the first few rows to verify the result\n",
    "print(df.head())"
   ]
  },
  {
   "cell_type": "markdown",
   "id": "0bee1a7b-6f4b-4688-856e-d95cdd0b726a",
   "metadata": {},
   "source": [
    "### Set the `predictor` and `target` variables (X, y)"
   ]
  },
  {
   "cell_type": "code",
   "execution_count": 3,
   "id": "786007cb-4a98-495d-a374-2d1b0e3f9a31",
   "metadata": {},
   "outputs": [
    {
     "name": "stdout",
     "output_type": "stream",
     "text": [
      "(10408, 5) (10408,)\n"
     ]
    }
   ],
   "source": [
    "predictors = ['SSH', 'SSS', 'Vuo', 'Vvo', 'MLD'] # Predictor vars\n",
    "X = df[predictors].values \n",
    "y = df['SST'].values      # Target variable\n",
    "# Needs to be (n,n)(n,)\n",
    "print(X.shape, y.shape)"
   ]
  },
  {
   "cell_type": "markdown",
   "id": "c42294e7-ec41-4844-ae43-df3800780f12",
   "metadata": {},
   "source": [
    "### Split the data into two sets: `training` (80%) and `test` (20%)"
   ]
  },
  {
   "cell_type": "code",
   "execution_count": 4,
   "id": "6916045c-ba64-4fb2-a1a3-39c085fc725f",
   "metadata": {},
   "outputs": [
    {
     "name": "stdout",
     "output_type": "stream",
     "text": [
      "Trainin set size: 8326\n",
      "Testing set size: 2082\n"
     ]
    }
   ],
   "source": [
    "# Split your dataset so 20% is set aside for testing (0.2) \n",
    "# Set random_state to ensure yr train-test split is always the same (for reproducibility)\n",
    "X_train, X_test, y_train, y_test = train_test_split(X, y, test_size=0.2, random_state=42)\n",
    "\n",
    "# Check the 80% training: 20% testing split\n",
    "print(\"Trainin set size:\", X_train.shape[0])\n",
    "print(\"Testing set size:\",  X_test.shape[0])"
   ]
  },
  {
   "cell_type": "markdown",
   "id": "d9b02411-1c1d-4046-a946-c67ec4de1c43",
   "metadata": {},
   "source": [
    "<div class=\"alert alert-info\" role=\"alert\" \n",
    "     style=\"font-size: 1.8em; font-weight: bold; padding: 15px; margin: 10px 0; text-align: center; background-color: #d9edf7; border-color: #bce8f1; color: #31708f; border-radius: 8px;\">\n",
    "    \n",
    "    Random Forest Regressor\n",
    "<div>"
   ]
  },
  {
   "cell_type": "code",
   "execution_count": 5,
   "id": "de9a875b-b87b-43f2-a4b4-58f80998b99e",
   "metadata": {},
   "outputs": [],
   "source": [
    "# Initialize and Train Random Forest Model\n",
    "rf_model = RandomForestRegressor(\n",
    "    n_estimators = 100,  # Number of trees in the forest\n",
    "    max_depth = None,    # Trees grow until all leaves are pure (default behavior)\n",
    "    random_state = 42,   # Ensures reproducibility\n",
    "    n_jobs = -1)"
   ]
  },
  {
   "cell_type": "code",
   "execution_count": 6,
   "id": "b3f90075-4123-4843-98c2-bb8103de40a3",
   "metadata": {},
   "outputs": [],
   "source": [
    "#Fit the model on the training set\n",
    "rf_model.fit(X_train, y_train)\n",
    "\n",
    "# Predict SST on the test dataset\n",
    "y_pred = rf_model.predict(X_test)"
   ]
  },
  {
   "cell_type": "markdown",
   "id": "05e04ae2-d25a-4dc5-9f74-8b88e466fea3",
   "metadata": {},
   "source": [
    "<div class=\"alert alert-info\" role=\"alert\" \n",
    "     style=\"font-size: 1.8em; font-weight: bold; padding: 15px; margin: 10px 0; text-align: center; background-color: #d9edf7; border-color: #bce8f1; color: #31708f; border-radius: 8px;\">\n",
    "    Evaluating Model Performance\n",
    "</div>"
   ]
  },
  {
   "cell_type": "markdown",
   "id": "0b5a9b1b-a97b-4794-8832-dfb9f6d3e2a3",
   "metadata": {},
   "source": [
    "### Metrics for Random Forest Model: `R2` and `RMSE`"
   ]
  },
  {
   "cell_type": "code",
   "execution_count": 7,
   "id": "2c3c6c37-b951-43ef-be20-98d5c5a27d95",
   "metadata": {},
   "outputs": [
    {
     "name": "stdout",
     "output_type": "stream",
     "text": [
      "RandomForest Regress R²  : 0.72\n",
      "RandomForest Regress MSE : 1.06\n",
      "RandomForest Regress RMSE: 1.03\n"
     ]
    }
   ],
   "source": [
    "# R², MSE, RMSE Random Forest:\n",
    "r2  = r2_score(y_test, y_pred)\n",
    "mse = mean_squared_error(y_test, y_pred, squared = False)\n",
    "rmse= np.sqrt(mse)\n",
    "\n",
    "# Print output\n",
    "print(f\"RandomForest Regress R²  : {r2:.2f}\" )\n",
    "print(f\"RandomForest Regress MSE : {mse:.2f}\")\n",
    "print(f\"RandomForest Regress RMSE: {rmse:.2f}\")"
   ]
  },
  {
   "cell_type": "raw",
   "id": "727a6e44-cfa8-4657-8a86-27c366af4cd0",
   "metadata": {},
   "source": [
    "Scaled SV Regressor R²  : 0.71\n",
    "Scaled SV Regressor MSE : 0.55\n",
    "Scaled SV Regressor RMSE: 0.74"
   ]
  },
  {
   "cell_type": "markdown",
   "id": "0d3f0c44-b69f-4913-b7d8-994056b5d8ef",
   "metadata": {},
   "source": [
    "### The R² values are similar but that's a better error! Do we see the same feature contributions now that we're able to handle more `complexity`?"
   ]
  },
  {
   "cell_type": "markdown",
   "id": "165d7990-09f2-4af5-bc74-27004fa6bd4e",
   "metadata": {},
   "source": [
    "<div class=\"alert alert-info\" role=\"alert\" \n",
    "     style=\"font-size: 1.8em; font-weight: bold; padding: 15px; margin: 10px 0; text-align: center; background-color: #d9edf7; border-color: #bce8f1; color: #31708f; border-radius: 8px;\">\n",
    "    Feature Importance\n",
    "</div>"
   ]
  },
  {
   "cell_type": "code",
   "execution_count": 8,
   "id": "a1fcf74d-6e09-44c7-9bfe-48f1fd1776e6",
   "metadata": {},
   "outputs": [
    {
     "name": "stdout",
     "output_type": "stream",
     "text": [
      "    Variables  RF Importance\n",
      "SSH       SSH       0.391379\n",
      "MLD       MLD       0.349466\n",
      "SSS       SSS       0.129765\n",
      "Vvo       Vvo       0.072031\n",
      "Vuo       Vuo       0.057358\n"
     ]
    }
   ],
   "source": [
    "# Using SHAP to explain our model predications\n",
    "explainer = shap.TreeExplainer(rf_model )    # Explain model predictions\n",
    "shap_vals = explainer.shap_values(X_test)    # Compute SHAP values for test data\n",
    "\n",
    "# Compare Feature Importances from RF\n",
    "rf_importance = pd.Series(rf_model.feature_importances_, index=predictors)\n",
    "# Create DataFrame (df) to hold the feature names and their RF importance:\n",
    "rf_df = pd.DataFrame({\n",
    "    \"Variables\": predictors,\n",
    "    \"RF Importance\": rf_importance})\n",
    "\n",
    "# Sort rf_df so most important variables are at the top (descending order)\n",
    "rf_df.sort_values(by = \"RF Importance\", ascending = False, inplace = True)\n",
    "print(rf_df)"
   ]
  },
  {
   "cell_type": "code",
   "execution_count": 9,
   "id": "90811d9c-8681-4750-b731-d9ba2a64b873",
   "metadata": {},
   "outputs": [
    {
     "name": "stdout",
     "output_type": "stream",
     "text": [
      "  Variables  Mean Absolute SHAP\n",
      "0       SSH            0.931536\n",
      "4       MLD            0.930361\n",
      "1       SSS            0.344264\n",
      "3       Vvo            0.106811\n",
      "2       Vuo            0.056187\n"
     ]
    }
   ],
   "source": [
    "# Compute the mean absolute SHAP values for each feature\n",
    "# This provides a robust measure of feature importance\n",
    "shap_importance = np.abs(shap_vals).mean(axis = 0)\n",
    "\n",
    "# Create a DataFrame to hold the feature names and their SHAP importance\n",
    "shap_df = pd.DataFrame({\n",
    "    \"Variables\": predictors,\n",
    "    \"Mean Absolute SHAP\": shap_importance})\n",
    "\n",
    "# Sort the DataFrame so that the most important features are at the top\n",
    "shap_df.sort_values(by=\"Mean Absolute SHAP\", ascending=False, inplace=True)\n",
    "print(shap_df)"
   ]
  },
  {
   "cell_type": "code",
   "execution_count": 10,
   "id": "8e4ae97f-49ae-42c9-acfe-fb2e298870a8",
   "metadata": {},
   "outputs": [],
   "source": [
    "# For plotting SHAP:\n",
    "# Use the diverging \"Spectral\" palette for colormap:\n",
    "cmap = sns.color_palette(\"Spectral\", as_cmap = True)\n",
    "\n",
    "# Compute normalized ranking for each feature (btwn 0 - 1)\n",
    "# Note -- shap_df values used to determine relative order:\n",
    "norm_ranks = shap_df[\"Mean Absolute SHAP\"].rank(pct = True)\n",
    "\n",
    "# Map each normalized rank to a colour via colourmap:\n",
    "colors = norm_ranks.apply(lambda x: cmap(x)).tolist()"
   ]
  },
  {
   "cell_type": "code",
   "execution_count": 11,
   "id": "3de01517-2fd4-4f45-b32f-cd4dbee82be5",
   "metadata": {},
   "outputs": [
    {
     "data": {
      "image/png": "[encoded data removed]",
      "text/plain": [
       "<Figure size 900x400 with 2 Axes>"
      ]
     },
     "metadata": {},
     "output_type": "display_data"
    }
   ],
   "source": [
    "# Create a figure with two subplots side-by-side\n",
    "fig, axes = plt.subplots(1, 2, figsize=(9, 4))\n",
    "\n",
    "# ----- Plot RF Feature Importance -----\n",
    "sns.barplot(data = rf_df, x = \"RF Importance\", y = \"Variables\", ax = axes[0],\n",
    "    palette = colors)\n",
    "axes[0].set_title( \"RF Variable Importance\", fontweight='bold')\n",
    "axes[0].set_xlabel(\"RF Importance\", fontsize = 10)\n",
    "axes[0].set_ylabel(\"Features\", fontsize = 10)\n",
    "axes[0].grid(axis = 'x', linestyle = '--', alpha = 0.7)\n",
    "\n",
    "# ----- Plot SHAP Feature Importance -----\n",
    "sns.barplot(data = shap_df, x = \"Mean Absolute SHAP\", y = \"Variables\", ax=axes[1],\n",
    "    palette = colors)\n",
    "axes[1].set_title( \"SHAP Variable Importance\", fontweight ='bold')\n",
    "axes[1].set_xlabel(\"Mean Absolute SHAP Value\", fontsize = 10)\n",
    "axes[1].set_ylabel(\"\")  # Remove redundant ylabel on the right plot\n",
    "axes[1].grid(axis = 'x', linestyle = '--', alpha = 0.7)\n",
    "\n",
    "# Show plots\n",
    "plt.tight_layout()\n",
    "plt.show()"
   ]
  },
  {
   "cell_type": "markdown",
   "id": "3a833d19-2288-464a-8ae5-a2415d9612de",
   "metadata": {},
   "source": [
    "<div class=\"alert alert-info\" role=\"alert\" \n",
    "     style=\"font-size: 1.em; padding: 15px; margin: 10px 0; text-align: left; background-color: #d9edf7; border-color: #bce8f1; color: #31708f; border-radius: 8px;\">\n",
    "\n",
    "    While the ranking is similar, the scales differ because the two methods measure importance in different ways:\n",
    "    \n",
    "    ⦾ Random Forest Feature Importance \n",
    "       - Calculated based on the reduction in impurity (e.g. the MSE) that each feature provides when used for splits.\n",
    "       - Normalized (0 - 1), so they represent the relative importance of features in splitting decisions.\n",
    "       - Rankings are more about the model's inner workings:\n",
    "       - i.e.: how frequently and effectively features are used to split nodes and reduce error during model training.\n",
    "        \n",
    "    ⦾ SHAP Mean Absolute Values\n",
    "       - Computed per sample as the contribution each feature makes to the model’s prediction, then averaged across all samples.\n",
    "       - Values are in the same units as the output variable (SST), and are not normalised in the same way as RF.\n",
    "       - More about the actual impact of feature values:\n",
    "       - i.e.: how much each feature’s actual value contributed to the prediction (game theory foundation).\n",
    "<div>"
   ]
  },
  {
   "cell_type": "code",
   "execution_count": null,
   "id": "8bc0dfa4-1b5d-4880-b112-3b0cc98c42b6",
   "metadata": {},
   "outputs": [],
   "source": [
    "# Bootstrapping for permutation importance uncertainty:\n",
    "n_bootstr = 50        # Reduced for faster computation\n",
    "n_repeats = 5         # Fewer repeats in permutation importance\n",
    "rng = np.random.RandomState(42)\n",
    "boot_importances = {feature: [] for feature in predictors}\n",
    "\n",
    "for i in range(n_bootstr):\n",
    "    # Bootstrap resample the training data\n",
    "    indices = rng.choice(np.arange(len(X_train)), size = len(X_train), replace = True)\n",
    "    X_boot = X_train[indices]\n",
    "    y_boot = y_train[indices]\n",
    "    \n",
    "    # Train model on bootstrap sample\n",
    "    rf_boot = RandomForestRegressor(n_estimators = 100, max_depth = None, \n",
    "                                    random_state = 42, n_jobs = -1)\n",
    "    rf_boot.fit(X_boot, y_boot)\n",
    "    \n",
    "    # Compute permutation importance on fixed test set (use parallel processing if possible)\n",
    "    perm_importance = permutation_importance(rf_boot, X_test, y_test, n_repeats = n_repeats, \n",
    "                                             random_state = 42, n_jobs = -1)\n",
    "    \n",
    "    # Save mean importance for features (vars)\n",
    "    for idx, feature in enumerate(predictors):\n",
    "        boot_importances[feature].append(perm_importance.importances_mean[idx])\n"
   ]
  },
  {
   "cell_type": "code",
   "execution_count": null,
   "id": "c221ca1b-3b48-4d46-ac4a-17ac4445a069",
   "metadata": {},
   "outputs": [],
   "source": [
    "print('Feature Mean Importance')\n",
    "print()\n",
    "# Summarize importances with 95% confidence intervals\n",
    "importance_summary = {}\n",
    "for feature in predictors:\n",
    "    mean_importance = np.mean(boot_importances[feature])\n",
    "    ci_lower = np.percentile(boot_importances[feature], 2.5 )\n",
    "    ci_upper = np.percentile(boot_importances[feature], 97.5)\n",
    "    importance_summary[feature] = (mean_importance, ci_lower, ci_upper)\n",
    "    # print output in the loop over features\n",
    "    print(f\"{feature} = {mean_importance:.2f}\\n   95% CI = ({ci_lower:.2f},{ci_upper:.2f})\")\n",
    "    print()"
   ]
  },
  {
   "cell_type": "raw",
   "id": "e7bb8fc4-f654-4983-9e52-406f5eddca5f",
   "metadata": {},
   "source": [
    "This result indicates that when the values of a variable (e.g.: MLD) are randomly permuted (thus breaking its relationship with the target), the model’s performance degrades by an average importance of n (0.5966). The 95% confidence interval (0.5790 to 0.6112) means that across many bootstrap resamples, we expect the true average importance of MLD to fall within this narrow range. Narrow CI suggests a stable and significant contribution of MLD to the model's predictions."
   ]
  }
 ],
 "metadata": {
  "kernelspec": {
   "display_name": "Python 3 (ipykernel)",
   "language": "python",
   "name": "python3"
  },
  "language_info": {
   "codemirror_mode": {
    "name": "ipython",
    "version": 3
   },
   "file_extension": ".py",
   "mimetype": "text/x-python",
   "name": "python",
   "nbconvert_exporter": "python",
   "pygments_lexer": "ipython3",
   "version": "3.11.8"
  }
 },
 "nbformat": 4,
 "nbformat_minor": 5
}
