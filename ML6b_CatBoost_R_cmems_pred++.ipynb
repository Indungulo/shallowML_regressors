{
 "cells": [
  {
   "cell_type": "raw",
   "id": "dca23171-0e41-41ca-a2d3-3def8cb2cd66",
   "metadata": {},
   "source": [
    "Authors: L. Biermann (UoP)\n",
    "Credits: This code was originally developed for the MaRS Modules.\n",
    "License: This code is offered as free-to-use in the public domain, with no warranty.\n",
    "Date_V2: 25/02/2025"
   ]
  },
  {
   "cell_type": "markdown",
   "id": "a0ccb9eb-2368-460a-9c90-cd738bbfc23c",
   "metadata": {},
   "source": [
    "# Supervised Shallow Machine Learning Models: CATBoost Regression"
   ]
  },
  {
   "cell_type": "markdown",
   "id": "18b60aeb-83dd-486f-b96c-3ce092b42bd7",
   "metadata": {},
   "source": [
    "<div class=\"alert alert-info\" role=\"alert\" \n",
    "     style=\"font-size: 1.1em; padding: 10px; margin: 10px 0; text-align: center;\">\n",
    "    \n",
    "    CATBoost: gradient boosting ensemble method that builds decision trees sequentially using ordered boosting and \n",
    "    built-in **categorical feature handling** to capture complex nonlinear relationships.\n",
    "</div>"
   ]
  },
  {
   "cell_type": "markdown",
   "id": "39554dc2-92e0-46a9-812b-842073d633ff",
   "metadata": {},
   "source": [
    "### Import Libraries including `sklearn`, `shap`, and `catboost`"
   ]
  },
  {
   "cell_type": "code",
   "execution_count": 1,
   "id": "91ff73e0-8237-4087-81ba-8e4e3bb4e5c0",
   "metadata": {},
   "outputs": [],
   "source": [
    "# Data Wrangling\n",
    "import glob\n",
    "import pandas as pd\n",
    "import numpy as np\n",
    "\n",
    "# Machine Learn\n",
    "from catboost import CatBoostRegressor\n",
    "from sklearn.model_selection import train_test_split\n",
    "from sklearn.metrics import mean_squared_error, r2_score\n",
    "from sklearn.model_selection import RandomizedSearchCV\n",
    "import shap\n",
    "\n",
    "# Statistical Test\n",
    "import pymannkendall as mk\n",
    "\n",
    "# Data Plotting\n",
    "import matplotlib.pyplot as plt\n",
    "import matplotlib.dates as mdates\n",
    "\n",
    "#ignorewarnings\n",
    "import warnings\n",
    "warnings.filterwarnings(\"ignore\")"
   ]
  },
  {
   "cell_type": "markdown",
   "id": "c1d0a592-5284-465f-952d-a8732d1e96a6",
   "metadata": {},
   "source": [
    "### Functions"
   ]
  },
  {
   "cell_type": "code",
   "execution_count": 2,
   "id": "5c12783e-7621-4601-a688-2e3450c8acb4",
   "metadata": {},
   "outputs": [],
   "source": [
    "# function to create 'Season' from months (1 - 12)\n",
    "def get_season(month):\n",
    "    if month in [12, 1, 2]:\n",
    "        return \"Winter\"\n",
    "    elif month in [3, 4, 5]:\n",
    "        return \"Spring\"\n",
    "    elif month in [6, 7, 8]:\n",
    "        return \"Summer\"\n",
    "    else:\n",
    "        return \"Autumn\"\n",
    "\n",
    "# Function to classify NOAA ONI values (3 classes)\n",
    "def classify_ENSO(val):\n",
    "    try:\n",
    "        val = float(val)\n",
    "    except:\n",
    "        return \"Unknown\"\n",
    "    if val  <= -0.5:\n",
    "        return \"La Nina\"\n",
    "    elif val >= 0.5:\n",
    "        return \"El Nino\"\n",
    "    else:\n",
    "        return \"Neutral\"\n",
    "        "
   ]
  },
  {
   "cell_type": "markdown",
   "id": "db5c7afd-8af2-44ea-9afe-5c2861b63ecc",
   "metadata": {},
   "source": [
    "<div class=\"alert alert-info\" role=\"alert\" \n",
    "     style=\"font-size: 1.8em; font-weight: bold; padding: 15px; margin: 10px 0; text-align: center; background-color: #d9edf7; border-color: #bce8f1; color: #31708f; border-radius: 8px;\">\n",
    "    Data Preprocessing\n",
    "</div>"
   ]
  },
  {
   "cell_type": "markdown",
   "id": "2560a835-a995-4b9b-af90-8f954b37c4a9",
   "metadata": {},
   "source": [
    "### Load CSV files containing variables -- `glob` and pandas' `read_csv function`"
   ]
  },
  {
   "cell_type": "code",
   "execution_count": 3,
   "id": "546fa81a-211a-48ff-ba71-bc709239ac30",
   "metadata": {},
   "outputs": [
    {
     "name": "stdout",
     "output_type": "stream",
     "text": [
      "       Dates  Month  Year       SSH        SST        SSS       Vuo       Vvo  \\\n",
      "0 1993-01-01      1  1993 -0.096133  25.840723  36.259041 -0.104373  0.850246   \n",
      "1 1993-01-02      1  1993 -0.106815  25.672995  36.251411 -0.169683  0.775780   \n",
      "\n",
      "         MLD  \n",
      "0  66.225166  \n",
      "1  69.124428  \n"
     ]
    }
   ],
   "source": [
    "# Define the file pattern to match relevant CSV files\n",
    "file_pattern = \"cmems_training/cmems_mod_glo_phy_my_0.083deg_P1D-m_*.csv\"\n",
    "\n",
    "# Read all matching CSV files into a dictionary\n",
    "df_dict = {}\n",
    "for file in glob.glob(file_pattern):\n",
    "    var_name = file.split(\"_\")[-1].split(\".\")[0]  # Extract variable name from filename\n",
    "    df_dict[var_name] = pd.read_csv(file, comment='#')\n",
    "\n",
    "# Ensure SSH is processed correctly (Dates + renaming 'zos' to 'SSH')\n",
    "SSH = df_dict.get(\"SSH\")\n",
    "if SSH is not None:\n",
    "    SSH['Dates'] = pd.to_datetime(SSH['time'], format='%Y-%m-%dT%H:%M:%S.%fZ', utc=True)\n",
    "    SSH['Dates'] = SSH['Dates'].dt.strftime('%Y-%m-%d %H:%M')\n",
    "    SSH['Dates'] = pd.to_datetime(SSH['Dates'])\n",
    "    # Extract months+ years (integers)\n",
    "    SSH['Month'] = SSH['Dates'].dt.month\n",
    "    SSH['Year']  = SSH['Dates'].dt.year\n",
    "    # Tidy up\n",
    "    SSH = SSH.drop(columns=['time'])\n",
    "    SSH = SSH.rename(columns={'zos': 'SSH'})    # Rename 'zos' to 'SSH'\n",
    "    SSH = SSH[['Dates', 'Month', 'Year', 'SSH']]  # Keep selected vars\n",
    "\n",
    "# Mapping of expected variables to their corresponding column names in CSVs\n",
    "data_vars = {\n",
    "    \"SST\": \"thetao\",\n",
    "    \"SSS\": \"so\",\n",
    "    \"Vuo\": \"uo\",\n",
    "    \"Vvo\": \"vo\",\n",
    "    \"MLD\": \"mlotst\"}\n",
    "\n",
    "# Merge all datasets dynamically\n",
    "df = SSH.copy() if SSH is not None else pd.DataFrame()\n",
    "\n",
    "for key, col in data_vars.items():\n",
    "    dataset_key = \"VEL\" if key in [\"Vuo\", \"Vvo\"] else key  # Ensure velocity data is accessed correctly\n",
    "    if dataset_key in df_dict:\n",
    "        df[key] = df_dict[dataset_key][col].values  # Assign values from each dataset\n",
    "\n",
    "# Print the first few rows to verify the result\n",
    "print(df.head(2))"
   ]
  },
  {
   "cell_type": "markdown",
   "id": "7228a4b0-1eb5-4bc2-84f5-9bc2fcea53f7",
   "metadata": {},
   "source": [
    "<div class=\"alert alert-info\" role=\"alert\" \n",
    "     style=\"font-size: 1.2em; font-weight: bold; padding: 15px; margin: 10px 0; text-align: center; background-color: #d9edf7; border-color: #bce8f1; color: #31708f; border-radius: 8px;\">\n",
    "\n",
    "    We can now also include SEASON and ENSO as additional categories. \n",
    "</div>"
   ]
  },
  {
   "cell_type": "markdown",
   "id": "68b24eb4-87d9-4e71-b4b9-6fb5fe3d4522",
   "metadata": {},
   "source": [
    "### Generate Season from Months; add to df as new column"
   ]
  },
  {
   "cell_type": "code",
   "execution_count": 4,
   "id": "4f67e03a-dad7-41e3-9de3-6e5c17a3bf09",
   "metadata": {},
   "outputs": [
    {
     "name": "stdout",
     "output_type": "stream",
     "text": [
      "       Dates  Month  Year       SSH        SST        SSS       Vuo       Vvo  \\\n",
      "0 1993-01-01      1  1993 -0.096133  25.840723  36.259041 -0.104373  0.850246   \n",
      "1 1993-01-02      1  1993 -0.106815  25.672995  36.251411 -0.169683  0.775780   \n",
      "2 1993-01-03      1  1993 -0.137028  25.314096  36.233101 -0.120243  0.763573   \n",
      "\n",
      "         MLD  Season  \n",
      "0  66.225166  Winter  \n",
      "1  69.124428  Winter  \n",
      "2  63.325909  Winter  \n"
     ]
    }
   ],
   "source": [
    "# Create Season using `Season Function`\n",
    "df['Season'] = df['Month'].apply(get_season)\n",
    "\n",
    "# Print first 2 rows to verify result\n",
    "print(df.head(3))"
   ]
  },
  {
   "cell_type": "markdown",
   "id": "f4a6bbc9-3cab-48b7-ac79-7cf4abf56817",
   "metadata": {},
   "source": [
    "### ENSO from NOAA Multivariate ENSO index (MEI.v2) https://psl.noaa.gov/enso/mei/"
   ]
  },
  {
   "cell_type": "code",
   "execution_count": 5,
   "id": "1f13082f-53d9-4e9c-83d3-f2ca1dd4ab84",
   "metadata": {},
   "outputs": [],
   "source": [
    "# Read the ENSO text file (adjust filepath and separator as needed)\n",
    "enso = pd.read_csv(\"cmems_training/meiv2_data.txt\", delim_whitespace = True)\n",
    "\n",
    "# Convert the ENSO table from wide to long format\n",
    "enso_long = enso.melt(id_vars = \"Year\", var_name = \"Month_str\", value_name = \"Index\")\n",
    "\n",
    "# Map month abbreviations to month numbers\n",
    "month_mapping = {'Jan': 1, 'Feb': 2, 'Mar': 3, 'Apr': 4, 'May': 5, 'Jun': 6, \n",
    "                 'Jul': 7, 'Aug': 8, 'Sep': 9, 'Oct':10, 'Nov':11, 'Dec':12}\n",
    "enso_long['Month'] = enso_long['Month_str'].map(month_mapping)\n",
    "\n",
    "enso_long['ENSO_cat'] = enso_long['Index'].apply(classify_ENSO)\n",
    "enso_long = enso_long.drop(columns = \"Month_str\")   # clean up\n",
    "\n",
    "# Merge new ENSO category into yr training df with Year and Month\n",
    "merged_df = pd.merge(df, enso_long[['Year', 'Month', 'ENSO_cat']],\n",
    "                     on = [\"Year\", \"Month\"], how = \"left\")\n",
    "\n",
    "# merged_df now includes the new ENSO_category column"
   ]
  },
  {
   "cell_type": "code",
   "execution_count": 6,
   "id": "58350fb0-6fc2-457d-9c27-308f9d706a45",
   "metadata": {},
   "outputs": [
    {
     "name": "stdout",
     "output_type": "stream",
     "text": [
      "Counts of ENSO Categories (monthly):\n",
      "ENSO_cat\n",
      "La Nina    134\n",
      "Neutral    132\n",
      "El Nino     76\n",
      "Name: count, dtype: int64\n"
     ]
    }
   ],
   "source": [
    "# count ENSO oscillations over ts\n",
    "# Aggregate to monthly (MEI is actually bi-monthly)\n",
    "monthly_enso = merged_df.groupby([\"Year\", \"Month\"])['ENSO_cat'].first().reset_index()\n",
    "\n",
    "# Count the occurrences of each ENSO phase on a monthly basis\n",
    "monthly_counts = monthly_enso['ENSO_cat'].value_counts()\n",
    "\n",
    "print(\"Counts of ENSO Categories (monthly):\")\n",
    "print(monthly_counts)"
   ]
  },
  {
   "cell_type": "code",
   "execution_count": 7,
   "id": "270d2583-5516-4cfc-b079-622eecbb5cfe",
   "metadata": {},
   "outputs": [],
   "source": [
    "df = merged_df"
   ]
  },
  {
   "cell_type": "markdown",
   "id": "0bee1a7b-6f4b-4688-856e-d95cdd0b726a",
   "metadata": {},
   "source": [
    "### Set the `predictor` and `target` variables (X, y)"
   ]
  },
  {
   "cell_type": "code",
   "execution_count": 8,
   "id": "786007cb-4a98-495d-a374-2d1b0e3f9a31",
   "metadata": {},
   "outputs": [
    {
     "name": "stdout",
     "output_type": "stream",
     "text": [
      "(10408, 9) (10408,)\n"
     ]
    }
   ],
   "source": [
    "predictors = ['Month', 'Year', 'Season', 'ENSO_cat', 'SSH', 'SSS', 'Vuo', 'Vvo', 'MLD'] # Predictor vars\n",
    "X = df[predictors]        # Use without (.values) so \"Season\" stays categorical.\n",
    "y = df['SST'].values      # Target variable SST keeps (.values)\n",
    "# Needs to be (n,n)(n,)\n",
    "print(X.shape, y.shape)"
   ]
  },
  {
   "cell_type": "markdown",
   "id": "c42294e7-ec41-4844-ae43-df3800780f12",
   "metadata": {},
   "source": [
    "### Split the data into two sets: `training` (80%) and `test` (20%)"
   ]
  },
  {
   "cell_type": "code",
   "execution_count": 9,
   "id": "6916045c-ba64-4fb2-a1a3-39c085fc725f",
   "metadata": {},
   "outputs": [
    {
     "name": "stdout",
     "output_type": "stream",
     "text": [
      "Trainin set size: 8326\n",
      "Testing set size: 2082\n"
     ]
    }
   ],
   "source": [
    "# Split your dataset so 20% is set aside for testing (0.2) \n",
    "# Set random_state to ensure yr train-test split is always the same (for reproducibility)\n",
    "X_train, X_test, y_train, y_test = train_test_split(X, y, test_size=0.2, random_state=42)\n",
    "\n",
    "# Check the 80% training: 20% testing split\n",
    "print(\"Trainin set size:\", X_train.shape[0])\n",
    "print(\"Testing set size:\",  X_test.shape[0])"
   ]
  },
  {
   "cell_type": "markdown",
   "id": "d9b02411-1c1d-4046-a946-c67ec4de1c43",
   "metadata": {},
   "source": [
    "<div class=\"alert alert-info\" role=\"alert\" \n",
    "     style=\"font-size: 1.8em; font-weight: bold; padding: 15px; margin: 10px 0; text-align: center; background-color: #d9edf7; border-color: #bce8f1; color: #31708f; border-radius: 8px;\">\n",
    "    \n",
    "    CatBoost Regressor\n",
    "</div>"
   ]
  },
  {
   "cell_type": "code",
   "execution_count": 10,
   "id": "5b527f3b-02e9-4c13-bb39-fc30ffa7e4a1",
   "metadata": {},
   "outputs": [],
   "source": [
    "# Initialise and Train the model\n",
    "cat_model = CatBoostRegressor(iterations    = 100,      # Number of boosting iterations\n",
    "                              learning_rate = 0.1,      # Step size shrinkage\n",
    "                              depth    = 5,             # Maximum tree depth\n",
    "                              verbose  = 0,             # Suppress training output\n",
    "                              random_state  = 42,\n",
    "                              task_type = 'CPU')        # Ensure compatibility with SHAP"
   ]
  },
  {
   "cell_type": "code",
   "execution_count": 11,
   "id": "b5d5b7f5-ea5c-4cae-ae57-9b989b1c3590",
   "metadata": {},
   "outputs": [],
   "source": [
    "# Train the model, specifying that 'Season': categorical\n",
    "cat_model.fit(X_train, y_train, cat_features=['Season', 'ENSO_cat'])\n",
    "\n",
    "# Predict SST on the test dataset\n",
    "y_pred = cat_model.predict(X_test)"
   ]
  },
  {
   "cell_type": "markdown",
   "id": "872ce5e0-727d-4a75-b31c-c83149743061",
   "metadata": {},
   "source": [
    "<div class=\"alert alert-info\" role=\"alert\" \n",
    "     style=\"font-size: 1.8em; font-weight: bold; padding: 15px; margin: 10px 0; text-align: center; background-color: #d9edf7; border-color: #bce8f1; color: #31708f; border-radius: 8px;\">\n",
    "    Evaluating Model Performance\n",
    "</div>"
   ]
  },
  {
   "cell_type": "markdown",
   "id": "ee962b1d-85af-4706-84ee-0476d761c956",
   "metadata": {},
   "source": [
    "### Metrics for CatBoost Model: `R2` and `RMSE`"
   ]
  },
  {
   "cell_type": "code",
   "execution_count": 12,
   "id": "5684f620-8fbe-461c-93d4-d850abd5686b",
   "metadata": {},
   "outputs": [
    {
     "name": "stdout",
     "output_type": "stream",
     "text": [
      "CatBoost Regressor R²  : 0.94\n",
      "CatBoost Regressor MSE : 0.47\n",
      "CatBoost Regressor RMSE: 0.69\n"
     ]
    }
   ],
   "source": [
    "# R², MSE, RMSE for Cat Boost:\n",
    "r2  = r2_score(y_test, y_pred)\n",
    "mse = mean_squared_error(y_test, y_pred, squared = False)\n",
    "rmse= np.sqrt(mse)\n",
    "\n",
    "# Print output\n",
    "print(f\"CatBoost Regressor R²  : {r2:.2f}\"  )\n",
    "print(f\"CatBoost Regressor MSE : {mse:.2f}\" )\n",
    "print(f\"CatBoost Regressor RMSE: {rmse:.2f}\")"
   ]
  },
  {
   "cell_type": "raw",
   "id": "13370f64-a786-4573-966c-0e6a5fc79acb",
   "metadata": {},
   "source": [
    "Best CatBoost CV R²: 0.96"
   ]
  },
  {
   "cell_type": "markdown",
   "id": "3b0c4c5e-66da-4243-8151-562b97476f37",
   "metadata": {},
   "source": [
    "### Close! Let's see if we can improve on this like with did with XGBoost -- hyperparameters"
   ]
  },
  {
   "cell_type": "markdown",
   "id": "0a0eb51a-2a4f-4cb2-bcc8-97fb3f5bbc69",
   "metadata": {},
   "source": [
    "<div class=\"alert alert-info\" role=\"alert\" \n",
    "     style=\"font-size: 1.5em; padding: 15px; margin: 10px 0; text-align: center; background-color: #d9edf7; border-color: #bce8f1; color: #31708f; border-radius: 8px;\">\n",
    "    \n",
    "    Hyperparameter Tuning\n",
    "</div>"
   ]
  },
  {
   "cell_type": "code",
   "execution_count": null,
   "id": "c27450bf-9dc9-4290-8e89-95798e354f47",
   "metadata": {},
   "outputs": [
    {
     "name": "stdout",
     "output_type": "stream",
     "text": [
      "Fitting 5 folds for each of 100 candidates, totalling 500 fits\n"
     ]
    }
   ],
   "source": [
    "# Define a parameter grid for CatBoost.\n",
    "# Each key corresponds to a hyperparameter, and the associated list contains the values that will be randomly sampled.\n",
    "param_dist = {\n",
    "    'learning_rate': [0.01, 0.05, 0.1],    # Learning rate: the step size for updating the model. # Lower values typically require more iterations and can lead to better generalization.\n",
    "    'l2_leaf_reg':   [1, 3, 5, 7],         # L2 regularization coefficient for leaf values; higher values help reduce overfitting.\n",
    "    'iterations' :   [100, 200, 300],      # Number of boosting iterations (trees) to build.\n",
    "    'max_depth'  :    [4, 5, 6, 7]}        # Maximum depth of each tree; deeper trees can capture more complex patterns but may overfit.\n",
    "\n",
    "# Initialize the CatBoostRegressor model.\n",
    "# Set the loss_function to 'RMSE' (Root Mean Squared Error)\n",
    "cat_model = CatBoostRegressor(loss_function = 'RMSE', verbose = 0, random_state = 42) # verbose = 0 to suppress training output\n",
    "\n",
    "\n",
    "# Setup RandomizedSearchCV for hyperparameter tuning:\n",
    "# - estimator: the base model to optimize (our CatBoostRegressor).\n",
    "# - param_distributions: the hyperparameter grid defined above.\n",
    "# - n_iter: the number of random combinations to try (here, 100 different sets).\n",
    "# - scoring: the performance metric to evaluate (R² in this case).\n",
    "# - cv: the number of cross-validation folds (5-fold CV).\n",
    "# - verbose: prints progress messages during the search.\n",
    "# - n_jobs: uses all available CPU cores (-1) to speed up the process.\n",
    "# - random_state: ensures reproducibility of the random search.\n",
    "random_search = RandomizedSearchCV(\n",
    "    estimator = cat_model,                \n",
    "    param_distributions = param_dist,     \n",
    "    n_iter  = 100,                         \n",
    "    scoring = 'r2',                      \n",
    "    cv = 5,                                # 5-fold cross-validation.\n",
    "    verbose =  1,                          # Print progress messages.\n",
    "    n_jobs  = -1,                          # Use all available cores.\n",
    "    random_state = 42)\n",
    "\n",
    "# Fit on training data specifying that 'Season' and 'ENSO': categorical\n",
    "random_search.fit(X_train, y_train, cat_features=['Season', 'ENSO_cat'])\n",
    "\n",
    "# Print best hyperparameters and cross-validation (CV) scores\n",
    "print(\"Best parameters:\", random_search.best_params_)\n",
    "print()\n",
    "print(\"Best CatBoost2 CV R²: {:.2f}\".format(random_search.best_score_))\n"
   ]
  },
  {
   "cell_type": "raw",
   "id": "edf38a5b-ea1d-4ca0-8a9c-15c9ab3e059d",
   "metadata": {},
   "source": [
    "Best parameters: {'max_depth': 7, 'learning_rate': 0.1, 'l2_leaf_reg': 3, 'iterations': 300}\n",
    "\n",
    "Best CatBoost1 CV R²: 0.96"
   ]
  },
  {
   "cell_type": "code",
   "execution_count": null,
   "id": "0d47eddb-27b8-4b44-befe-604a86da037d",
   "metadata": {},
   "outputs": [],
   "source": [
    "# Using SHAP to explain our model predictions with XGBoost\n",
    "explainer = shap.TreeExplainer(random_search.best_estimator_)  # Use best_estimator_ from random_search\n",
    "shap_vals = explainer.shap_values(X_test)                      # Compute SHAP values for your test data\n",
    "\n",
    "# Compute the mean absolute SHAP values for each feature\n",
    "# This provides a robust measure of feature importance\n",
    "shap_importance = np.abs(shap_vals).mean(axis = 0)\n",
    "\n",
    "# Create df of the features and their importance (SHAP)\n",
    "shap_df = pd.DataFrame({\n",
    "    \"Variable\": predictors,\n",
    "    \"Mean Absolute SHAP\": shap_importance})\n",
    "\n",
    "# Sort shap_df so the most important features (variables) are at the top:\n",
    "shap_df.sort_values(by = \"Mean Absolute SHAP\", ascending = False, inplace = True)\n",
    "print(shap_df)"
   ]
  },
  {
   "cell_type": "markdown",
   "id": "3a338289-ac59-4871-80c3-a2ee079f689f",
   "metadata": {},
   "source": [
    "### ENSO osciallations don't appear to be terribly important for our training. However, does it change/ improve model performance when deployed on the new data?"
   ]
  },
  {
   "cell_type": "code",
   "execution_count": null,
   "id": "dddaaddf-e993-4261-9020-6ecc277e168b",
   "metadata": {},
   "outputs": [],
   "source": [
    "# Save the model to a JSON file\n",
    "random_search.best_estimator_.save_model(\"cat_sst_model2.json\")"
   ]
  },
  {
   "cell_type": "markdown",
   "id": "351e75ad-caa4-4c20-832d-0b16142c93a9",
   "metadata": {},
   "source": [
    "### `Month` still the most important feature. `ENSO` contributes, but does it change (improve) SST predictions?"
   ]
  },
  {
   "cell_type": "markdown",
   "id": "f37692a9-b8ff-4b77-b6d2-0b806c547f23",
   "metadata": {},
   "source": [
    "<div class=\"alert alert-info\" role=\"alert\" \n",
    "     style=\"font-size: 1.6em; font-weight: bold; padding: 10px; margin: 10px 0; text-align: center;\">\n",
    "\n",
    "    CatBoost model deployment\n",
    "\n",
    "</div>"
   ]
  },
  {
   "cell_type": "markdown",
   "id": "467f2669-27f2-427b-adc6-2789c8b40fb4",
   "metadata": {},
   "source": [
    "### Load new files -- `glob` and pandas' `read_csv function`"
   ]
  },
  {
   "cell_type": "code",
   "execution_count": null,
   "id": "7208d2c5-ae11-46a6-8ccc-7cc16219b661",
   "metadata": {},
   "outputs": [],
   "source": [
    "# Define the file pattern to match the new CSV files\n",
    "file_pattern = \"cmems_testing_/cmems_mod_glo_phy-*_0.083deg_P1D-m.csv\"\n",
    "\n",
    "# Read all matching CSV files into a dictionary\n",
    "df_dict = {}\n",
    "for file in glob.glob(file_pattern):\n",
    "    # Extract variable name: get text after 'cmems_mod_glo_phy-' and before the first underscore\n",
    "    var_name = file.split(\"cmems_mod_glo_phy-\")[-1].split(\"_\")[0]\n",
    "    df_dict[var_name.upper()] = pd.read_csv(file, comment='#')  # Use upper-case keys for consistency\n",
    "\n",
    "# Process SSH separately (for Dates and renaming 'zos' to 'SSH')\n",
    "# Assuming the SSH file is named like: cmems_mod_glo_phy-ssh_0.083deg_P1D-m.csv\n",
    "SSH = df_dict.get(\"SSH\")\n",
    "if SSH is not None:\n",
    "    SSH['Dates'] = pd.to_datetime(SSH['time'], format='%Y-%m-%dT%H:%M:%S.%fZ', utc=True)\n",
    "    SSH['Dates'] = SSH['Dates'].dt.strftime('%Y-%m-%d %H:%M')\n",
    "    SSH['Dates'] = pd.to_datetime(SSH['Dates'])\n",
    "    # Extract months+ years (integers)\n",
    "    SSH['Month'] = SSH['Dates'].dt.month\n",
    "    SSH['Year']  = SSH['Dates'].dt.year\n",
    "    # Tidy up\n",
    "    SSH = SSH.drop(columns=['time'])\n",
    "    SSH = SSH.rename(columns={'zos': 'SSH'})    # Rename 'zos' to 'SSH'\n",
    "    SSH = SSH[['Dates', 'Month', 'Year', 'SSH']]  # Keep selected vars\n",
    "\n",
    "# Mapping of expected variables to their corresponding column names in CSVs.\n",
    "# Use upper-case keys to match our dictionary keys.\n",
    "data_vars = {\n",
    "    \"SST\": \"thetao\",\n",
    "    \"SSS\": \"so\",\n",
    "    \"Vuo\": \"uo\",\n",
    "    \"Vvo\": \"vo\",\n",
    "    \"MLD\": \"mlotst\"}\n",
    "\n",
    "# Start with the SSH DataFrame if available; otherwise, create an empty one.\n",
    "new_df = SSH.copy() if SSH is not None else pd.DataFrame()\n",
    "\n",
    "# Loop through each expected variable, and add its values if available\n",
    "for key, col in data_vars.items():\n",
    "    # For velocities, assume the file is named with 'VEL' instead of the variable name\n",
    "    dataset_key = \"VEL\" if key in [\"Vuo\", \"Vvo\"] else key\n",
    "    # Here, we assume that in the new files the key is simply the variable name (upper-case)\n",
    "    if dataset_key in df_dict:\n",
    "        new_df[key] = df_dict[dataset_key][col].values  # Assign the column values\n",
    "\n",
    "# Print the first few rows to verify the result\n",
    "print(new_df.head(2))"
   ]
  },
  {
   "cell_type": "code",
   "execution_count": null,
   "id": "8287e1da-49ec-405f-bb5b-bf978f86117d",
   "metadata": {},
   "outputs": [],
   "source": [
    "# Create Season using `Season Function`\n",
    "new_df['Season'] = new_df['Month'].apply(get_season)\n",
    "\n",
    "# Print the first few rows to verify the result\n",
    "print(new_df.tail(2))"
   ]
  },
  {
   "cell_type": "code",
   "execution_count": null,
   "id": "6c800879-5e5a-417f-9ae3-296dd3bc5abb",
   "metadata": {},
   "outputs": [],
   "source": [
    "# Read the ENSO text file (adjust filepath and separator as needed)\n",
    "enso = pd.read_csv(\"cmems_training/meiv2_data.txt\", delim_whitespace = True)\n",
    "\n",
    "# Convert the ENSO table from wide to long format\n",
    "enso_long = enso.melt(id_vars = \"Year\", var_name = \"Month_str\", value_name = \"Index\")\n",
    "\n",
    "# Map month abbreviations to month numbers\n",
    "month_mapping = {'Jan': 1, 'Feb': 2, 'Mar': 3, 'Apr': 4, 'May': 5, 'Jun': 6, \n",
    "                 'Jul': 7, 'Aug': 8, 'Sep': 9, 'Oct':10, 'Nov':11, 'Dec':12}\n",
    "enso_long['Month'] = enso_long['Month_str'].map(month_mapping)\n",
    "\n",
    "enso_long['ENSO_cat'] = enso_long['Index'].apply(classify_ENSO)\n",
    "enso_long = enso_long.drop(columns = \"Month_str\")   # clean up\n",
    "\n",
    "# Merge new ENSO category into the new testing df with Year and Month\n",
    "merged_df = pd.merge(new_df, enso_long[['Year', 'Month', 'ENSO_cat']],\n",
    "                     on = [\"Year\", \"Month\"], how = \"left\")\n",
    "\n",
    "# merged_df now includes the new ENSO_category column"
   ]
  },
  {
   "cell_type": "code",
   "execution_count": null,
   "id": "9d1be5da-65f9-4f5d-b472-8f5d4e7625bf",
   "metadata": {},
   "outputs": [],
   "source": [
    "# count ENSO oscillations over ts\n",
    "# Aggregate to monthly (MEI is actually bi-monthly)\n",
    "monthly_enso = merged_df.groupby([\"Year\", \"Month\"])['ENSO_cat'].first().reset_index()\n",
    "\n",
    "# Count the occurrences of each ENSO phase on a monthly basis\n",
    "monthly_counts = monthly_enso['ENSO_cat'].value_counts()\n",
    "\n",
    "print(\"Counts of ENSO Categories (monthly):\")\n",
    "print(monthly_counts)"
   ]
  },
  {
   "cell_type": "code",
   "execution_count": null,
   "id": "a5b041eb-06d8-4704-8f98-7bfb465ddd5e",
   "metadata": {},
   "outputs": [],
   "source": [
    "new_df = merged_df"
   ]
  },
  {
   "cell_type": "code",
   "execution_count": null,
   "id": "9d4038f8-3270-488f-bc33-12135ae6a92f",
   "metadata": {},
   "outputs": [],
   "source": [
    "predictors = ['Month', 'Year', 'ENSO_cat', 'Season', 'SSH', 'SSS', 'Vuo', 'Vvo', 'MLD'] # Predictor vars\n",
    "X_new = new_df[predictors]        # Use without (.values) so \"Season\" stays categorical.\n",
    "y_new = new_df['SST'].values      # Target variable SST keeps (.values)\n",
    "# Needs to be (n,n)(n,)\n",
    "print(X_new.shape, y_new.shape)"
   ]
  },
  {
   "cell_type": "markdown",
   "id": "65d81888-cfcb-45ea-9f6b-69ec9c46d886",
   "metadata": {},
   "source": [
    "<div class=\"alert alert-info\" role=\"alert\" \n",
    "     style=\"font-size: 1.5em; padding: 15px; margin: 10px 0; text-align: center; background-color: #d9edf7; border-color: #bce8f1; color: #31708f; border-radius: 8px;\">\n",
    "    \n",
    "    Fit Trained CatBoost Regressor\n",
    "</div>"
   ]
  },
  {
   "cell_type": "code",
   "execution_count": null,
   "id": "3c033211-b1d2-433a-9e93-e5bad8637117",
   "metadata": {},
   "outputs": [],
   "source": [
    "sst_model = CatBoostRegressor()      \n",
    "sst_model.load_model(\"cat_sst_model2.json\");  # Load the model saved to disk"
   ]
  },
  {
   "cell_type": "code",
   "execution_count": null,
   "id": "17e77d13-bc87-4994-976c-ece6c6252026",
   "metadata": {},
   "outputs": [],
   "source": [
    "# Saved XGBoost model: predict 'new' SST\n",
    "sst_pred = sst_model.predict(X_new)\n",
    "\n",
    "# Evaluate model performance: \n",
    "# R², MSE, RMSE for new data\n",
    "r2  = r2_score(y_new, sst_pred)\n",
    "mse = mean_squared_error(y_new, sst_pred, squared = False)\n",
    "rmse= np.sqrt(mse)\n",
    "\n",
    "# Print output\n",
    "print(f\"CatBoost Deployment2 R²  : {r2:.2f}\"  )\n",
    "print(f\"CatBoost Deployment2 MSE : {mse:.2f}\" )\n",
    "print(f\"CatBoost Deployment2 RMSE: {rmse:.2f}\")"
   ]
  },
  {
   "cell_type": "raw",
   "id": "4e6b9b98-04d8-4e10-a739-1b15f5e67892",
   "metadata": {},
   "source": [
    "CatBoost Deployment1 R²  : 0.80\n",
    "CatBoost Deployment1 MSE : 0.98\n",
    "CatBoost Deployment1 RMSE: 0.99"
   ]
  },
  {
   "cell_type": "markdown",
   "id": "fd9aed4f-8827-4b4f-be85-f0903c5f3708",
   "metadata": {},
   "source": [
    "### Another incremental improvement, hopefully helping us to match those summer SST highs?"
   ]
  },
  {
   "cell_type": "code",
   "execution_count": null,
   "id": "3818be2b-429b-4605-b342-be4ab55a128e",
   "metadata": {},
   "outputs": [],
   "source": [
    "# Create figure\n",
    "fig1, ax = plt.subplots(1, 1, figsize=(15, 5))\n",
    "\n",
    "# Plot True and Predicted SSTs\n",
    "ax.plot(new_df['Dates'], new_df['SST'], linestyle = '-', c = 'blue', linewidth = 1.0, label = 'True SSTs')\n",
    "ax.plot(new_df['Dates'], sst_pred,linestyle = '-.', c = 'orangered', linewidth = 1.5, label = 'Predicted')\n",
    "\n",
    "# Formatting\n",
    "ax.grid(True, color = 'silver', linestyle = ':', linewidth = 0.5)\n",
    "ax.set_xlim([np.nanmin(new_df['Dates']), np.nanmax(new_df['Dates'])])\n",
    "ax.set_ylabel('SST °C', fontsize = 10, weight = 'bold')\n",
    "ax.legend();\n",
    "\n",
    "# Set the x-axis major locator to every 3 months\n",
    "ax.xaxis.set_major_locator(mdates.MonthLocator(interval = 1))\n",
    "# Format the x-axis ticks as 'mm-yy'\n",
    "ax.xaxis.set_major_formatter(mdates.DateFormatter('%m-%y'))\n",
    "# Rotate tick labels for better readability\n",
    "plt.setp(ax.get_xticklabels(), rotation = 40, ha = 'center')\n",
    "\n",
    "plt.show()"
   ]
  },
  {
   "cell_type": "raw",
   "id": "9eba1c22-fd26-4705-a363-857e4857afa7",
   "metadata": {},
   "source": [
    "Remembering where we started with our first XGBoost Model, and seeing what difference ENSO category may have made for CatBoost:"
   ]
  },
  {
   "cell_type": "code",
   "execution_count": null,
   "id": "c0229ccf-4996-48b2-a63b-5222d947714f",
   "metadata": {},
   "outputs": [],
   "source": [
    "# Create Scatterplot\n",
    "fig2, ax = plt.subplots(1, 1, figsize=(5, 4))\n",
    "# Plot True and Predicted SSTs\n",
    "ax.scatter(sst_pred, new_df['SST'], color = 'navy', alpha = 0.8, marker = 'o', s = 5)\n",
    "# Set axes limits\n",
    "ax.set_xlim(22, 32)\n",
    "ax.set_ylim(22, 32)\n",
    "# Plot a 1:1 line\n",
    "ax.plot([22, 32], [22, 32], color = 'red', linestyle = '--', linewidth = 1.5)\n",
    "# Formatting \n",
    "ax.set_xlabel('Pred SST')                           \n",
    "ax.set_ylabel('True SST')                           \n",
    "ax.set_title('CatBoost Model2',weight = 'bold')    \n",
    "ax.grid(True, linestyle = ':', linewidth = 0.5) "
   ]
  },
  {
   "attachments": {
    "37e6c9a5-2fa7-4e27-bb22-db840e23b3f5.png": {
     "image/png": "[encoded data removed]"
    },
    "7ea06cc2-7a5d-4a9b-bbf1-a746eaa809e2.png": {
     "image/png": "[encoded data removed]"
    }
   },
   "cell_type": "markdown",
   "id": "dae5da90-2bae-4fb1-ab73-bf0057c8b304",
   "metadata": {},
   "source": [
    "![CatBoost1_Scatterp.png](attachment:7ea06cc2-7a5d-4a9b-bbf1-a746eaa809e2.png)\n",
    "![XBGBoost1_Scatterp.png](attachment:37e6c9a5-2fa7-4e27-bb22-db840e23b3f5.png)"
   ]
  },
  {
   "cell_type": "code",
   "execution_count": null,
   "id": "b941c482-c7d8-40f0-9239-ae2175d6628e",
   "metadata": {},
   "outputs": [],
   "source": []
  }
 ],
 "metadata": {
  "kernelspec": {
   "display_name": "Python 3 (ipykernel)",
   "language": "python",
   "name": "python3"
  },
  "language_info": {
   "codemirror_mode": {
    "name": "ipython",
    "version": 3
   },
   "file_extension": ".py",
   "mimetype": "text/x-python",
   "name": "python",
   "nbconvert_exporter": "python",
   "pygments_lexer": "ipython3",
   "version": "3.11.8"
  }
 },
 "nbformat": 4,
 "nbformat_minor": 5
}
